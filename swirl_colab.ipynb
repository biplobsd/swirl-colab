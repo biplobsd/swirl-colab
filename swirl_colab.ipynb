{
  "nbformat": 4,
  "nbformat_minor": 0,
  "metadata": {
    "colab": {
      "provenance": [],
      "include_colab_link": true
    },
    "kernelspec": {
      "name": "python3",
      "display_name": "Python 3"
    },
    "accelerator": "TPU"
  },
  "cells": [
    {
      "cell_type": "markdown",
      "metadata": {
        "id": "view-in-github",
        "colab_type": "text"
      },
      "source": [
        "<a href=\"https://colab.research.google.com/github/biplobsd/swirl-colab/blob/main/swirl_colab.ipynb\" target=\"_parent\"><img src=\"https://colab.research.google.com/assets/colab-badge.svg\" alt=\"Open In Colab\"/></a>"
      ]
    },
    {
      "cell_type": "markdown",
      "source": [
        "# ![swirl logo](https://swirl.today/wp-content/uploads/2023/07/swirl-company-logo-white-250x100-1-1.png)\n",
        "\n",
        "Swirl is open-source, enterprise search and AI\n",
        "\n",
        "This notebook created by `Biplob Kumar Sutradhar` - [biplobsd.me](https://biplobsd.github.io)\n",
        "\n",
        "Read more - [biplobsd.me/blogs](https://biplobsd.github.io/blogs)"
      ],
      "metadata": {
        "id": "2H53kq7bhK97"
      }
    },
    {
      "cell_type": "markdown",
      "source": [
        "## Step 1 - Prerequisites Installation"
      ],
      "metadata": {
        "id": "6Q10qazkgkMO"
      }
    },
    {
      "cell_type": "code",
      "source": [
        "%%shell\n",
        "pip install udocker\n",
        "udocker --allow-root install\n",
        "apt-get install redis-server\n",
        "redis-server --daemonize yes"
      ],
      "metadata": {
        "id": "XqI38dYPLKHN"
      },
      "execution_count": null,
      "outputs": []
    },
    {
      "cell_type": "markdown",
      "source": [
        "## Step 2 - Port forward 8000"
      ],
      "metadata": {
        "id": "ySFDx0wFgvrg"
      }
    },
    {
      "cell_type": "markdown",
      "source": [
        "Do not click after getting the link. `Step 3` is required and running successfully then click the forward link."
      ],
      "metadata": {
        "id": "pscBeVz1jRSv"
      }
    },
    {
      "cell_type": "code",
      "metadata": {
        "cellView": "form",
        "colab": {
          "base_uri": "https://localhost:8080/",
          "height": 117
        },
        "id": "9tmDfc0vAms0",
        "outputId": "df583ff3-e007-40e7-a4fb-01b153c7f930"
      },
      "source": [
        "#@markdown <center><h3>Port forwarding</h3></center>\n",
        "import os, pathlib, zipfile, re\n",
        "import urllib.request\n",
        "from IPython.display import HTML, clear_output\n",
        "\n",
        "\n",
        "#####################################\n",
        "USE_FREE_TOKEN = True\n",
        "TOKEN = \"\"\n",
        "PORT_LIST = \"8000\" #@param {type:\"string\"}\n",
        "\n",
        "#@markdown <font size=2px>Input PORT which you can want to forward. Separate two PORT between by comma. <br>Ex `80, 8080, 4040`</font>\n",
        "REGION = \"US\" #@param [\"US\", \"EU\", \"AP\", \"AU\", \"SA\", \"JP\", \"IN\"]\n",
        "HOME = os.path.expanduser(\"~\")\n",
        "\n",
        "if not os.path.exists(f\"{HOME}/.ipython/ocr.py\"):\n",
        "    hCode = \"https://raw.githubusercontent.com/biplobsd/\" \\\n",
        "                \"OneClickRun/master/res/ocr.py\"\n",
        "    urllib.request.urlretrieve(hCode, f\"{HOME}/.ipython/ocr.py\")\n",
        "\n",
        "\n",
        "from ocr import (\n",
        "    runSh,\n",
        "    loadingAn,\n",
        "    PortForward_wrapper,\n",
        "    findProcess,\n",
        "    displayUrl,\n",
        "    textAn\n",
        ")\n",
        "\n",
        "loadingAn()\n",
        "\n",
        "os.makedirs('tools/', exist_ok=True)\n",
        "\n",
        "# START_SERVER\n",
        "# Ngrok region 'us','eu','ap','au','sa','jp','in'\n",
        "clear_output()\n",
        "m = []\n",
        "splitPortList = PORT_LIST.split(',')\n",
        "for p in splitPortList:\n",
        "  p = int(p)\n",
        "  m.append([f\"s{p}\", p, 'http'])\n",
        "\n",
        "\n",
        "PORT_FORWARD = \"localhost\" #@param [\"ngrok\", \"localhost\", \"argotunnel\"]\n",
        "Server = PortForward_wrapper(\n",
        "    PORT_FORWARD, TOKEN, USE_FREE_TOKEN, m, REGION.lower(),\n",
        "    [f\"{HOME}/.ngrok2/randomPortOpen.yml\", 45535]\n",
        ")\n",
        "\n",
        "for l in m:\n",
        "  displayUrl(Server.start(l[0], displayB=False, v=False),\n",
        "             pNamU=f\"{l[0][1:]} -> \", cls=False)"
      ],
      "execution_count": 7,
      "outputs": [
        {
          "output_type": "display_data",
          "data": {
            "text/plain": [
              "<IPython.core.display.HTML object>"
            ],
            "text/html": [
              "<style>@import url('https://fonts.googleapis.com/css?family=Source+Code+Pro:200,900');  :root {   --text-color: hsla(210, 50%, 85%, 1);   --shadow-color: hsla(210, 40%, 52%, .4);   --btn-color: hsl(210, 80%, 42%);   --bg-color: #141218; }  * {   box-sizing: border-box; } button { position:relative; padding: 10px 20px;     border: none;   background: none;   cursor: pointer;      font-family: \"Source Code Pro\";   font-weight: 900;   font-size: 100%;     color: var(--text-color);      background-color: var(--btn-color);   box-shadow: var(--shadow-color) 2px 2px 22px;   border-radius: 4px;    z-index: 0;     overflow: hidden;    }  button:focus {   outline-color: transparent;   box-shadow: var(--btn-color) 2px 2px 22px; }  .right::after, button::after {   content: var(--content);   display: block;   position: absolute;   white-space: nowrap;   padding: 40px 40px;   pointer-events:none; }  button::after{   font-weight: 200;   top: -30px;   left: -20px; }   .right, .left {   position: absolute;   width: 100%;   height: 100%;   top: 0; } .right {   left: 66%; } .left {   right: 66%; } .right::after {   top: -30px;   left: calc(-66% - 20px);      background-color: var(--bg-color);   color:transparent;   transition: transform .4s ease-out;   transform: translate(0, -90%) rotate(0deg) }  button:hover .right::after {   transform: translate(0, -47%) rotate(0deg) }  button .right:hover::after {   transform: translate(0, -50%) rotate(-7deg) }  button .left:hover ~ .right::after {   transform: translate(0, -50%) rotate(7deg) }  /* bubbles */ button::before {   content: '';   pointer-events: none;   opacity: .6;   background:     radial-gradient(circle at 20% 35%,  transparent 0,  transparent 2px, var(--text-color) 3px, var(--text-color) 4px, transparent 4px),     radial-gradient(circle at 75% 44%, transparent 0,  transparent 2px, var(--text-color) 3px, var(--text-color) 4px, transparent 4px),     radial-gradient(circle at 46% 52%, transparent 0, transparent 4px, var(--text-color) 5px, var(--text-color) 6px, transparent 6px);    width: 100%;   height: 300%;   top: 0;   left: 0;   position: absolute;   animation: bubbles 5s linear infinite both; }  @keyframes bubbles {   from {     transform: translate();   }   to {     transform: translate(0, -66.666%);   } }    Resources</style><center><a href=\"https://6b066c2f136a9c.lhr.life\" target=\"_blank\"><div style=\"width: 700px;   height: 80px; padding-top:15px\"><button style='--content: \"8000 -> https://6b066c2f136a9c.lhr.life\";'\">   <div class=\"left\"></div>8000 -> https://6b066c2f136a9c.lhr.life<div class=\"right\"></div> </div></button></a></center>"
            ]
          },
          "metadata": {}
        }
      ]
    },
    {
      "cell_type": "markdown",
      "source": [
        "## Step 3 - start swirl using udocker"
      ],
      "metadata": {
        "id": "TnQRhJLTg3yN"
      }
    },
    {
      "cell_type": "markdown",
      "source": [
        "Default username: `admin` and password: `password`"
      ],
      "metadata": {
        "id": "tqwTO5YujDPj"
      }
    },
    {
      "cell_type": "code",
      "source": [
        "%%shell\n",
        "udocker --allow-root run \\\n",
        "  -p 8000:8000 \\\n",
        "  -p 6379:6379 \\\n",
        "  -e ALLOWED_HOSTS=\"*\" \\\n",
        "  -e CELERY_BROKER_URL=redis://127.0.0.1:6379/0 \\\n",
        "  -e CELERY_RESULT_BACKEND=redis://127.0.0.1:6379/0 \\\n",
        "  swirlai/swirl-search:latest \\\n",
        "  sh -c 'rm -fr ./.swirl &&\n",
        "         python swirl.py setup &&\n",
        "         /usr/bin/jq \".default\" ./config-swirl-demo.db.json | sed -e \"s/<msal-app-id>/$MSAL_APP_ID/\" \\\n",
        "                                                              -e \"s/<msal-tenant-id>/$MSAL_TENANT_ID/\" \\\n",
        "                                                              -e \"s/<msal-port>/$MSAL_CB_PORT/\" \\\n",
        "                                                              -e \"s/<msal-host>/$MSAL_HOST/\" > static/api/config/default &&\n",
        "         python swirl.py start celery-worker celery-beats &&\n",
        "         daphne -b 0.0.0.0 -p 8000 swirl_server.asgi:application'\n",
        "\n"
      ],
      "metadata": {
        "colab": {
          "base_uri": "https://localhost:8080/",
          "height": 1000
        },
        "id": "JP0skvnAJ2QW",
        "outputId": "1fb1faf0-3240-4771-e78e-9eb010497047"
      },
      "execution_count": 8,
      "outputs": [
        {
          "output_type": "stream",
          "name": "stdout",
          "text": [
            "Warning: this container exposes TCP/IP ports\n",
            " \n",
            " ****************************************************************************** \n",
            " *                                                                            * \n",
            " *               STARTING 5f2b2965-6c10-317b-8ba2-b69a9d5cebb0                * \n",
            " *                                                                            * \n",
            " ****************************************************************************** \n",
            " executing: sh\n",
            "\u001b[1m__S_W_I_R_L__2_._6______________________________________________________________\u001b[0m\n",
            "\n",
            "Setting Up SWIRL:\n",
            "Checking Migrations:\n",
            "No changes detected\n",
            "\n",
            "\n",
            "Migrating:\n",
            "\n",
            "Operations to perform:\n",
            "  Apply all migrations: admin, auth, authtoken, contenttypes, django_celery_beat, sessions, swirl\n",
            "Running migrations:\n",
            "  No migrations to apply.\n",
            "\n",
            "\n",
            "Collecting Statics:\n",
            "\n",
            "\n",
            "215 static files copied to '/app/static'.\n",
            "\n",
            "Ok\n",
            "\u001b[92mCommand successful!\u001b[0m\n",
            "\u001b[1m__S_W_I_R_L__2_._6______________________________________________________________\u001b[0m\n",
            "\n",
            "Warning: logs directory does not exist, creating it\n",
            "ParseResult(scheme='redis', netloc='127.0.0.1:6379', path='/0', params='', query='', fragment='') checked.\n",
            "ParseResult(scheme='redis', netloc='127.0.0.1:6379', path='/0', params='', query='', fragment='') checked.\n",
            "Start: celery-worker -> celery -A swirl_server worker --loglevel INFO ... Ok, pid: 9432\n",
            "Start: celery-beats -> celery -A swirl_server beat --scheduler django_celery_beat.schedulers:DatabaseScheduler ... Ok, pid: 9454\n",
            "Updating .swirl... Ok\n",
            "\n",
            "    PID TTY          TIME CMD\n",
            "   9432 ?        00:00:06 celery\n",
            "   9454 ?        00:00:02 celery\n",
            "\n",
            "You're using version 2.6 of Swirl, the current version.\n",
            "\u001b[92mCommand successful!\u001b[0m\n",
            "2023-10-05 07:05:30,460 INFO     Starting server at tcp:port=8000:interface=0.0.0.0\n",
            "2023-10-05 07:05:30,461 INFO     HTTP/2 support not enabled (install the http2 and tls Twisted extras)\n",
            "2023-10-05 07:05:30,461 INFO     Configuring endpoint tcp:port=8000:interface=0.0.0.0\n",
            "2023-10-05 07:05:30,470 INFO     Listening on TCP address 0.0.0.0:8000\n",
            "127.0.0.1:54496 - - [05/Oct/2023:07:06:23] \"GET /\" 302 -\n",
            "127.0.0.1:54496 - - [05/Oct/2023:07:06:23] \"GET /galaxy/\" 200 20292\n",
            "127.0.0.1:44732 - - [05/Oct/2023:07:06:27] \"GET /galaxy/\" 200 20292\n",
            "127.0.0.1:44740 - - [05/Oct/2023:07:06:30] \"GET /galaxy/\" 200 20292\n",
            "127.0.0.1:44740 - - [05/Oct/2023:07:06:31] \"GET /galaxy/styles.css\" 200 699890\n",
            "127.0.0.1:53102 - - [05/Oct/2023:07:06:31] \"GET /galaxy/runtime.js\" 200 1368\n",
            "127.0.0.1:53102 - - [05/Oct/2023:07:06:31] \"GET /galaxy/polyfills.js\" 200 80165\n",
            "127.0.0.1:53108 - - [05/Oct/2023:07:06:32] \"GET /galaxy/main.js\" 200 1187764\n",
            "127.0.0.1:53108 - - [05/Oct/2023:07:06:34] \"GET /api/config/default\" 200 2844\n",
            "127.0.0.1:44740 - - [05/Oct/2023:07:06:34] \"GET /galaxy/favicon.ico\" 200 5047\n",
            "127.0.0.1:44740 - - [05/Oct/2023:07:06:35] \"GET /galaxy/logo_highres_positive.png\" 200 25113\n",
            "127.0.0.1:57034 - - [05/Oct/2023:07:09:03] \"POST /api/swirl/login/\" 200 67\n",
            "127.0.0.1:57042 - - [05/Oct/2023:07:09:03] \"GET /api/swirl/sapi/authenticators/\" 200 2\n",
            "127.0.0.1:57034 - - [05/Oct/2023:07:09:03] \"GET /api/swirl/sapi/searchproviders/\" 200 36944\n",
            "127.0.0.1:57042 - - [05/Oct/2023:07:09:04] \"GET /api/swirl/sapi/searchproviders/\" 200 36944\n",
            "127.0.0.1:57034 - - [05/Oct/2023:07:09:09] \"GET /galaxy/loading.gif\" 200 3208\n",
            "2023-10-05 07:09:09,346 INFO     admin search_qs 1\n",
            "2023-10-05 07:09:20,034 WARNING  Timeout:The operation timed out. query results may still be returned\n",
            "2023-10-05 07:09:20,035 INFO     search.py: FULL_RESULTS\n",
            "2023-10-05 07:09:20,251 INFO     admin search 1 FULL_RESULTS_READY 0 10.9\n",
            "2023-10-05 07:09:20,272 INFO     admin results 1 RelevancyMixer 40\n",
            "127.0.0.1:57042 - - [05/Oct/2023:07:09:20] \"GET /api/swirl/sapi/search/?qs=google&format=json&search_id=&page=1&result_mixer=RelevancyMixer\" 200 16486\n",
            "127.0.0.1:57042 - - [05/Oct/2023:07:09:21] \"GET /galaxy/primeicons.ttf\" 200 57384\n",
            "2023-10-05 07:09:27,741 INFO     admin results 1 RelevancyMixer 40\n",
            "127.0.0.1:57042 - - [05/Oct/2023:07:09:27] \"GET /api/swirl/sapi/results/?qs=google&format=json&search_id=1&page=2&result_mixer=RelevancyMixer\" 200 17126\n",
            "2023-10-05 07:09:29,416 INFO     admin results 1 RelevancyMixer 40\n",
            "127.0.0.1:57042 - - [05/Oct/2023:07:09:29] \"GET /api/swirl/sapi/results/?qs=google&format=json&search_id=1&page=1&result_mixer=RelevancyMixer\" 200 16486\n",
            "127.0.0.1:40126 - - [05/Oct/2023:07:11:25] \"GET /galaxy/logo_highres_negative.png\" 200 24833\n",
            "127.0.0.1:40110 - - [05/Oct/2023:07:11:25] \"GET /galaxy/galaxy.jpg\" 200 568918\n",
            "2023-10-05 07:18:44,083 INFO     Killed 0 pending application instances\n",
            "Info: keyboard interrupt\n",
            "The futex facility returned an unexpected error code.\n",
            "Aborted (core dumped)\n"
          ]
        },
        {
          "output_type": "error",
          "ename": "CalledProcessError",
          "evalue": "ignored",
          "traceback": [
            "\u001b[0;31m---------------------------------------------------------------------------\u001b[0m",
            "\u001b[0;31mCalledProcessError\u001b[0m                        Traceback (most recent call last)",
            "\u001b[0;32m<ipython-input-8-247b72f7b490>\u001b[0m in \u001b[0;36m<cell line: 1>\u001b[0;34m()\u001b[0m\n\u001b[0;32m----> 1\u001b[0;31m \u001b[0mget_ipython\u001b[0m\u001b[0;34m(\u001b[0m\u001b[0;34m)\u001b[0m\u001b[0;34m.\u001b[0m\u001b[0mrun_cell_magic\u001b[0m\u001b[0;34m(\u001b[0m\u001b[0;34m'shell'\u001b[0m\u001b[0;34m,\u001b[0m \u001b[0;34m''\u001b[0m\u001b[0;34m,\u001b[0m \u001b[0;34m'udocker --allow-root run \\\\\\n  -p 8000:8000 \\\\\\n  -p 6379:6379 \\\\\\n  -e ALLOWED_HOSTS=\"*\" \\\\\\n  -e CELERY_BROKER_URL=redis://127.0.0.1:6379/0 \\\\\\n  -e CELERY_RESULT_BACKEND=redis://127.0.0.1:6379/0 \\\\\\n  swirlai/swirl-search:latest \\\\\\n  sh -c \\'rm -fr ./.swirl &&\\n         python swirl.py setup &&\\n         /usr/bin/jq \".default\" ./config-swirl-demo.db.json | sed -e \"s/<msal-app-id>/$MSAL_APP_ID/\" \\\\\\n                                                              -e \"s/<msal-tenant-id>/$MSAL_TENANT_ID/\" \\\\\\n                                                              -e \"s/<msal-port>/$MSAL_CB_PORT/\" \\\\\\n                                                              -e \"s/<msal-host>/$MSAL_HOST/\" > static/api/config/default &&\\n         python swirl.py start celery-worker celery-beats &&\\n         daphne -b 0.0.0.0 -p 8000 swirl_server.asgi:application\\'\\n\\n'\u001b[0m\u001b[0;34m)\u001b[0m\u001b[0;34m\u001b[0m\u001b[0;34m\u001b[0m\u001b[0m\n\u001b[0m",
            "\u001b[0;32m/usr/local/lib/python3.10/dist-packages/google/colab/_shell.py\u001b[0m in \u001b[0;36mrun_cell_magic\u001b[0;34m(self, magic_name, line, cell)\u001b[0m\n\u001b[1;32m    332\u001b[0m     \u001b[0;32mif\u001b[0m \u001b[0mline\u001b[0m \u001b[0;32mand\u001b[0m \u001b[0;32mnot\u001b[0m \u001b[0mcell\u001b[0m\u001b[0;34m:\u001b[0m\u001b[0;34m\u001b[0m\u001b[0;34m\u001b[0m\u001b[0m\n\u001b[1;32m    333\u001b[0m       \u001b[0mcell\u001b[0m \u001b[0;34m=\u001b[0m \u001b[0;34m' '\u001b[0m\u001b[0;34m\u001b[0m\u001b[0;34m\u001b[0m\u001b[0m\n\u001b[0;32m--> 334\u001b[0;31m     \u001b[0;32mreturn\u001b[0m \u001b[0msuper\u001b[0m\u001b[0;34m(\u001b[0m\u001b[0;34m)\u001b[0m\u001b[0;34m.\u001b[0m\u001b[0mrun_cell_magic\u001b[0m\u001b[0;34m(\u001b[0m\u001b[0mmagic_name\u001b[0m\u001b[0;34m,\u001b[0m \u001b[0mline\u001b[0m\u001b[0;34m,\u001b[0m \u001b[0mcell\u001b[0m\u001b[0;34m)\u001b[0m\u001b[0;34m\u001b[0m\u001b[0;34m\u001b[0m\u001b[0m\n\u001b[0m\u001b[1;32m    335\u001b[0m \u001b[0;34m\u001b[0m\u001b[0m\n\u001b[1;32m    336\u001b[0m \u001b[0;34m\u001b[0m\u001b[0m\n",
            "\u001b[0;32m/usr/local/lib/python3.10/dist-packages/IPython/core/interactiveshell.py\u001b[0m in \u001b[0;36mrun_cell_magic\u001b[0;34m(self, magic_name, line, cell)\u001b[0m\n\u001b[1;32m   2471\u001b[0m             \u001b[0;32mwith\u001b[0m \u001b[0mself\u001b[0m\u001b[0;34m.\u001b[0m\u001b[0mbuiltin_trap\u001b[0m\u001b[0;34m:\u001b[0m\u001b[0;34m\u001b[0m\u001b[0;34m\u001b[0m\u001b[0m\n\u001b[1;32m   2472\u001b[0m                 \u001b[0margs\u001b[0m \u001b[0;34m=\u001b[0m \u001b[0;34m(\u001b[0m\u001b[0mmagic_arg_s\u001b[0m\u001b[0;34m,\u001b[0m \u001b[0mcell\u001b[0m\u001b[0;34m)\u001b[0m\u001b[0;34m\u001b[0m\u001b[0;34m\u001b[0m\u001b[0m\n\u001b[0;32m-> 2473\u001b[0;31m                 \u001b[0mresult\u001b[0m \u001b[0;34m=\u001b[0m \u001b[0mfn\u001b[0m\u001b[0;34m(\u001b[0m\u001b[0;34m*\u001b[0m\u001b[0margs\u001b[0m\u001b[0;34m,\u001b[0m \u001b[0;34m**\u001b[0m\u001b[0mkwargs\u001b[0m\u001b[0;34m)\u001b[0m\u001b[0;34m\u001b[0m\u001b[0;34m\u001b[0m\u001b[0m\n\u001b[0m\u001b[1;32m   2474\u001b[0m             \u001b[0;32mreturn\u001b[0m \u001b[0mresult\u001b[0m\u001b[0;34m\u001b[0m\u001b[0;34m\u001b[0m\u001b[0m\n\u001b[1;32m   2475\u001b[0m \u001b[0;34m\u001b[0m\u001b[0m\n",
            "\u001b[0;32m/usr/local/lib/python3.10/dist-packages/google/colab/_system_commands.py\u001b[0m in \u001b[0;36m_shell_cell_magic\u001b[0;34m(args, cmd)\u001b[0m\n\u001b[1;32m    110\u001b[0m   \u001b[0mresult\u001b[0m \u001b[0;34m=\u001b[0m \u001b[0m_run_command\u001b[0m\u001b[0;34m(\u001b[0m\u001b[0mcmd\u001b[0m\u001b[0;34m,\u001b[0m \u001b[0mclear_streamed_output\u001b[0m\u001b[0;34m=\u001b[0m\u001b[0;32mFalse\u001b[0m\u001b[0;34m)\u001b[0m\u001b[0;34m\u001b[0m\u001b[0;34m\u001b[0m\u001b[0m\n\u001b[1;32m    111\u001b[0m   \u001b[0;32mif\u001b[0m \u001b[0;32mnot\u001b[0m \u001b[0mparsed_args\u001b[0m\u001b[0;34m.\u001b[0m\u001b[0mignore_errors\u001b[0m\u001b[0;34m:\u001b[0m\u001b[0;34m\u001b[0m\u001b[0;34m\u001b[0m\u001b[0m\n\u001b[0;32m--> 112\u001b[0;31m     \u001b[0mresult\u001b[0m\u001b[0;34m.\u001b[0m\u001b[0mcheck_returncode\u001b[0m\u001b[0;34m(\u001b[0m\u001b[0;34m)\u001b[0m\u001b[0;34m\u001b[0m\u001b[0;34m\u001b[0m\u001b[0m\n\u001b[0m\u001b[1;32m    113\u001b[0m   \u001b[0;32mreturn\u001b[0m \u001b[0mresult\u001b[0m\u001b[0;34m\u001b[0m\u001b[0;34m\u001b[0m\u001b[0m\n\u001b[1;32m    114\u001b[0m \u001b[0;34m\u001b[0m\u001b[0m\n",
            "\u001b[0;32m/usr/local/lib/python3.10/dist-packages/google/colab/_system_commands.py\u001b[0m in \u001b[0;36mcheck_returncode\u001b[0;34m(self)\u001b[0m\n\u001b[1;32m    135\u001b[0m   \u001b[0;32mdef\u001b[0m \u001b[0mcheck_returncode\u001b[0m\u001b[0;34m(\u001b[0m\u001b[0mself\u001b[0m\u001b[0;34m)\u001b[0m\u001b[0;34m:\u001b[0m\u001b[0;34m\u001b[0m\u001b[0;34m\u001b[0m\u001b[0m\n\u001b[1;32m    136\u001b[0m     \u001b[0;32mif\u001b[0m \u001b[0mself\u001b[0m\u001b[0;34m.\u001b[0m\u001b[0mreturncode\u001b[0m\u001b[0;34m:\u001b[0m\u001b[0;34m\u001b[0m\u001b[0;34m\u001b[0m\u001b[0m\n\u001b[0;32m--> 137\u001b[0;31m       raise subprocess.CalledProcessError(\n\u001b[0m\u001b[1;32m    138\u001b[0m           \u001b[0mreturncode\u001b[0m\u001b[0;34m=\u001b[0m\u001b[0mself\u001b[0m\u001b[0;34m.\u001b[0m\u001b[0mreturncode\u001b[0m\u001b[0;34m,\u001b[0m \u001b[0mcmd\u001b[0m\u001b[0;34m=\u001b[0m\u001b[0mself\u001b[0m\u001b[0;34m.\u001b[0m\u001b[0margs\u001b[0m\u001b[0;34m,\u001b[0m \u001b[0moutput\u001b[0m\u001b[0;34m=\u001b[0m\u001b[0mself\u001b[0m\u001b[0;34m.\u001b[0m\u001b[0moutput\u001b[0m\u001b[0;34m\u001b[0m\u001b[0;34m\u001b[0m\u001b[0m\n\u001b[1;32m    139\u001b[0m       )\n",
            "\u001b[0;31mCalledProcessError\u001b[0m: Command 'udocker --allow-root run \\\n  -p 8000:8000 \\\n  -p 6379:6379 \\\n  -e ALLOWED_HOSTS=\"*\" \\\n  -e CELERY_BROKER_URL=redis://127.0.0.1:6379/0 \\\n  -e CELERY_RESULT_BACKEND=redis://127.0.0.1:6379/0 \\\n  swirlai/swirl-search:latest \\\n  sh -c 'rm -fr ./.swirl &&\n         python swirl.py setup &&\n         /usr/bin/jq \".default\" ./config-swirl-demo.db.json | sed -e \"s/<msal-app-id>/$MSAL_APP_ID/\" \\\n                                                              -e \"s/<msal-tenant-id>/$MSAL_TENANT_ID/\" \\\n                                                              -e \"s/<msal-port>/$MSAL_CB_PORT/\" \\\n                                                              -e \"s/<msal-host>/$MSAL_HOST/\" > static/api/config/default &&\n         python swirl.py start celery-worker celery-beats &&\n         daphne -b 0.0.0.0 -p 8000 swirl_server.asgi:application'\n\n' returned non-zero exit status 1."
          ]
        }
      ]
    }
  ]
}